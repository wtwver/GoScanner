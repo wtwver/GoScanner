{
 "cells": [
  {
   "cell_type": "code",
   "execution_count": 160,
   "metadata": {},
   "outputs": [
    {
     "name": "stdout",
     "output_type": "stream",
     "text": [
      "setting done\n"
     ]
    }
   ],
   "source": [
    "import subprocess\n",
    "# docker inside docker to skip installing?\n",
    "# should build docker by ourself to enhacne security\n",
    "\n",
    "def exec(cmd):\n",
    "#     return subprocess.check_output(cmd,shell=True, stderr=subprocess.STDOUT)\n",
    "    !$cmd\n",
    "\n",
    "\n",
    "\n",
    "def create_vol():\n",
    "    exec(\"docker volume create result \")\n",
    "\n",
    "target = \"juiceshop321.herokuapp.com\"\n",
    "crawl_depth = 3\n",
    "fuzz_recur = True\n",
    "wordlist = \"common-api-endpoints-mazen160.txt\"\n",
    "\n",
    "acrawler = \"docker run -i --rm -v result:/tmp snowsecurity/photon -u {} --wayback -l {} -t 10 -o /tmp/\".format(target,crawl_depth) \n",
    "pcrawler = \"docker run -i --rm -v result:/tmp heywoodlh/tomnomnom-tools:latest ash -c \\\"echo {} | waybackurls | sort -u | tee /tmp/2.txt \\\"\".format(target)\n",
    "\n",
    "\n",
    "\n",
    "afuzzer=\"docker run -i --rm -v result:/tmp --entrypoint sh trickest/ffuf -c \\\"wget https://raw.githubusercontent.com/danielmiessler/SecLists/master/Discovery/Web-Content/{} && ffuf -u http://{}/FUZZ -w {} | tee /tmp/3.txt\\\"\".format(wordlist,target,wordlist)\n",
    "\n",
    "heuristic = \"docker run -i --rm -v result:/tmp wtwver/parth1 bash -c \\\"python3 parth.py -put {} && mv params-* /tmp/ && cat /tmp/params*\\\"\".format(target)\n",
    "\n",
    "CVE = \"docker run --rm -i -v result:/tmp --entrypoint sh projectdiscovery/nuclei -c \\\"echo http://{} | ./nuclei -t / -silent -update-templates\\\"\".format(target)\n",
    "\n",
    "result = \"docker run --rm -it -v result:/tmp ubuntu bash -c \\\"cat /tmp/*\\\" \"\n",
    "\n",
    "print(\"setting done\")\n",
    "\n"
   ]
  },
  {
   "cell_type": "code",
   "execution_count": null,
   "metadata": {},
   "outputs": [
    {
     "name": "stdout",
     "output_type": "stream",
     "text": [
      "[\u001b[92mtech-detect\u001b[0m:\u001b[1;92mexpress\u001b[0m] [\u001b[94mhttp\u001b[0m] [\u001b[34minfo\u001b[0m] http://juiceshop321.herokuapp.com/\n",
      "[\u001b[92mswagger-panel\u001b[0m] [\u001b[94mhttp\u001b[0m] [\u001b[34minfo\u001b[0m] http://juiceshop321.herokuapp.com/api-docs/swagger.json\n"
     ]
    }
   ],
   "source": [
    "# exec(result) \n",
    "\n",
    "\n",
    "# !docker run -i --rm -v result:/tmp --entrypoint sh trickest/ffuf -c \"wget https://raw.githubusercontent.com/danielmiessler/SecLists/master/Discovery/Web-Content/common-api-endpoints-mazen160.txt && ffuf -u http://juiceshop321.herokuapp.com/FUZZ -w common-api-endpoints-mazen160.txt | tee /tmp/3.txt\"\n",
    "\n",
    "\n",
    "\n",
    "# exec(acrawler) \n",
    "\n",
    "# exec(pcrawler) \n",
    "# exec(afuzzer) \n",
    "\n",
    "# exec(heuristic)\n",
    "# exec(CVE)"
   ]
  },
  {
   "cell_type": "markdown",
   "metadata": {},
   "source": [
    "# HI\n",
    "\n",
    "\n",
    "```\n",
    "sadsad\n",
    "```\n",
    "\n",
    "\n",
    "## 1232\n",
    "- 456\n",
    "- 456\n"
   ]
  }
 ],
 "metadata": {
  "kernelspec": {
   "display_name": "Python 3",
   "language": "python",
   "name": "python3"
  }
 },
 "nbformat": 4,
 "nbformat_minor": 4
}
